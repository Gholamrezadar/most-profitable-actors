{
 "cells": [
  {
   "cell_type": "markdown",
   "metadata": {},
   "source": [
    "By Gholamreza Dar - Fall 2022"
   ]
  },
  {
   "cell_type": "markdown",
   "metadata": {},
   "source": [
    "## Imports"
   ]
  },
  {
   "cell_type": "code",
   "execution_count": 1,
   "metadata": {},
   "outputs": [],
   "source": [
    "import os\n",
    "import csv\n",
    "import pickle\n",
    "from collections import defaultdict\n",
    "from IPython.display import display, HTML\n",
    "\n",
    "# Third party\n",
    "from dotenv import load_dotenv\n",
    "import requests\n",
    "import pandas as pd"
   ]
  },
  {
   "cell_type": "markdown",
   "metadata": {},
   "source": [
    "## Load TMDB's API_KEY\n",
    "located in in .env file"
   ]
  },
  {
   "cell_type": "code",
   "execution_count": 2,
   "metadata": {},
   "outputs": [],
   "source": [
    "load_dotenv()\n",
    "API_KEY = os.getenv('API_KEY')"
   ]
  },
  {
   "cell_type": "markdown",
   "metadata": {},
   "source": [
    "## Functions"
   ]
  },
  {
   "cell_type": "markdown",
   "metadata": {},
   "source": [
    "### Save and Load Utility Functions"
   ]
  },
  {
   "cell_type": "code",
   "execution_count": 3,
   "metadata": {},
   "outputs": [],
   "source": [
    "def pickling(path, data):\n",
    "    file = open(path,'wb')\n",
    "    pickle.dump(data,file)\n",
    "\n",
    "def unpickling(path):\n",
    "    file = open(path, 'rb')\n",
    "    b = pickle.load(file)\n",
    "    return b"
   ]
  },
  {
   "cell_type": "markdown",
   "metadata": {},
   "source": [
    "### API requests functions"
   ]
  },
  {
   "cell_type": "code",
   "execution_count": 4,
   "metadata": {},
   "outputs": [],
   "source": [
    "def get_movie_id(movie_name, movie_year):\n",
    "    \"\"\"Gets the movie_id from TMDB using the movie_name and year\n",
    "\n",
    "    Args:\n",
    "        movie_name (str): Movie's name\n",
    "        movie_year (str): Movie's release year\n",
    "\n",
    "    Returns:\n",
    "        int: Movie TMDB id\n",
    "    \"\"\"\n",
    "\n",
    "    r = requests.get(f'https://api.themoviedb.org/3/search/movie?api_key={API_KEY}&language=en-US&page=1&include_adult=false', params={'query':movie_name, 'year':movie_year})\n",
    "    movie_id = r.json()['results'][0]['id']\n",
    "    return movie_id\n",
    "\n",
    "def get_movie_actors(movie_name, movie_year, limit=20):\n",
    "    \"\"\"Returns the top 'limit' movie actors\n",
    "\n",
    "    Args:\n",
    "        movie_name (str): Movie's name\n",
    "        movie_year (str): Movie's release year\n",
    "        limit (int, optional): Actors limit. Defaults to 20.\n",
    "\n",
    "    Returns:\n",
    "        str[]: A list of movie actors\n",
    "    \"\"\"\n",
    "\n",
    "    actors = []\n",
    "\n",
    "    movie_id = get_movie_id(movie_name, movie_year)\n",
    "    r = requests.get(f'https://api.themoviedb.org/3/movie/{movie_id}/credits?api_key={API_KEY}&language=en-US&')\n",
    "\n",
    "    actors_json = r.json()['cast'][:limit]\n",
    "    for actor in actors_json:\n",
    "        actors.append(actor['name'])\n",
    "\n",
    "    return actors"
   ]
  },
  {
   "cell_type": "markdown",
   "metadata": {},
   "source": [
    "### Display Functions"
   ]
  },
  {
   "cell_type": "code",
   "execution_count": 17,
   "metadata": {},
   "outputs": [],
   "source": [
    "def print_actors_map(actors_map, actors_movies_map, limit=20):\n",
    "    \"\"\"Prints the data in the console\"\"\"\n",
    "\n",
    "    # Sort the actors based on their total profit\n",
    "    sorted_actors_map = dict(sorted(actors_map.items(), key=lambda x: x[1], reverse=True))\n",
    "\n",
    "    idx = 0\n",
    "    for actor_name, profit in sorted_actors_map.items():\n",
    "        movies_list = actors_movies_map[actor_name]\n",
    "        print(idx, actor_name, profit, movies_list)\n",
    "        idx += 1\n",
    "        \n",
    "        # Limit the number of actors to display\n",
    "        if idx > limit:\n",
    "            break\n",
    "\n",
    "def pretty_print(df):\n",
    "    \"\"\"Helps to display each movie in a seperated line\"\"\"\n",
    "\n",
    "    return display(HTML(df.to_html().replace(\"\\\\n\",\"<br>\")))\n",
    "\n",
    "def print_actors_map_pd(actors_map, actors_movies_map, limit=200, movies_limit=100):\n",
    "    \"\"\"Displays the data as a HTML table and returns the df for later use.\"\"\"\n",
    "\n",
    "    # Sort the actors based on their total profit\n",
    "    sorted_actors_map = dict(sorted(actors_map.items(), key=lambda x: x[1], reverse=True))\n",
    "\n",
    "    # Generate the table\n",
    "    data = []\n",
    "    idx = 0\n",
    "    for actor_name, profit in sorted_actors_map.items():\n",
    "        movies_list = actors_movies_map[actor_name]\n",
    "        data.append([actor_name, f\"${profit:,}\", \"\\n\".join(movies_list[:movies_limit])])\n",
    "        idx += 1\n",
    "\n",
    "        # Limit the number of actors to display\n",
    "        if idx > limit:\n",
    "            break\n",
    "\n",
    "    # Convert to df for better display\n",
    "    df = pd.DataFrame(data, columns=[\"Actor Name\", \"Profit\", \"Movies\"])\n",
    "    pretty_print(df)\n",
    "\n",
    "    return df"
   ]
  },
  {
   "cell_type": "markdown",
   "metadata": {},
   "source": [
    "## Gather data"
   ]
  },
  {
   "cell_type": "markdown",
   "metadata": {},
   "source": [
    "### Let's get the actors from the movie Mother!(2017)"
   ]
  },
  {
   "cell_type": "code",
   "execution_count": 6,
   "metadata": {},
   "outputs": [
    {
     "data": {
      "text/plain": [
       "['Jennifer Lawrence',\n",
       " 'Javier Bardem',\n",
       " 'Ed Harris',\n",
       " 'Michelle Pfeiffer',\n",
       " 'Brian Gleeson']"
      ]
     },
     "execution_count": 6,
     "metadata": {},
     "output_type": "execute_result"
    }
   ],
   "source": [
    "actors= get_movie_actors(\"mother!\", \"2017\")\n",
    "actors[:5]"
   ]
  },
  {
   "cell_type": "markdown",
   "metadata": {},
   "source": [
    "### Load the best selling movies\n",
    "from the crawled 'top_movies_list.csv' file"
   ]
  },
  {
   "cell_type": "code",
   "execution_count": 8,
   "metadata": {},
   "outputs": [
    {
     "name": "stdout",
     "output_type": "stream",
     "text": [
      "1200 Movies Loaded\n"
     ]
    }
   ],
   "source": [
    "# get movies name and year from csv\n",
    "movies_list = []\n",
    "with open('top_movies_list.csv', newline='') as file:\n",
    "    reader = csv.reader(file)\n",
    "    for idx, movie in enumerate(reader):\n",
    "        movies_list.append(movie)\n",
    "        \n",
    "print(len(movies_list), \"Movies Loaded\")"
   ]
  },
  {
   "cell_type": "code",
   "execution_count": 12,
   "metadata": {},
   "outputs": [
    {
     "data": {
      "text/plain": [
       "['1', 'Avatar', '2009', '$2881837181']"
      ]
     },
     "execution_count": 12,
     "metadata": {},
     "output_type": "execute_result"
    }
   ],
   "source": [
    "# movie[0]: id\n",
    "# movie[1]: movie_name\n",
    "# movie[2]: movie_year\n",
    "# movie[3]: movie_profit\n",
    "movies_list[0] # 0 means Avatar(2009) as of Fall 2022"
   ]
  },
  {
   "cell_type": "markdown",
   "metadata": {},
   "source": [
    "### Load the actors of each movie\n",
    "ordered according to the movies_list data"
   ]
  },
  {
   "cell_type": "code",
   "execution_count": 13,
   "metadata": {},
   "outputs": [
    {
     "data": {
      "text/plain": [
       "['Sam Worthington',\n",
       " 'Zoe Saldaña',\n",
       " 'Sigourney Weaver',\n",
       " 'Stephen Lang',\n",
       " 'Michelle Rodriguez',\n",
       " 'Giovanni Ribisi',\n",
       " 'Joel David Moore',\n",
       " 'CCH Pounder',\n",
       " 'Wes Studi',\n",
       " 'Laz Alonso',\n",
       " 'Dileep Rao',\n",
       " 'Matt Gerald',\n",
       " 'Sean Anthony Moran',\n",
       " 'Jason Whyte',\n",
       " 'Scott Lawrence',\n",
       " 'Kelly Kilgour',\n",
       " 'James Patrick Pitt',\n",
       " 'Sean Patrick Murphy',\n",
       " 'Peter Dillon',\n",
       " 'Kevin Dorman']"
      ]
     },
     "execution_count": 13,
     "metadata": {},
     "output_type": "execute_result"
    }
   ],
   "source": [
    "# Load the scraped actors_data using the multiprocessing code 'gather_data_multiprocess.py.\n",
    "actors_data = unpickling(\"actors_data.pckl\")\n",
    "actors_data[0] # 0 means Avatar(2009) as of Fall 2022"
   ]
  },
  {
   "cell_type": "markdown",
   "metadata": {},
   "source": [
    "## Main Juice!"
   ]
  },
  {
   "cell_type": "code",
   "execution_count": 14,
   "metadata": {},
   "outputs": [
    {
     "name": "stdout",
     "output_type": "stream",
     "text": [
      "CPU times: total: 156 ms\n",
      "Wall time: 157 ms\n"
     ]
    }
   ],
   "source": [
    "%%time\n",
    "\n",
    "# Change this to False to recalculate actors_map and actors_movies_map\n",
    "is_data_available = True\n",
    "\n",
    "actors_map = defaultdict(int) # a dictionary like this {'Tom Cruise':10_000_000, ...}\n",
    "actors_movies_map = defaultdict(list) # a dictionary like this {'Tom Cruise': [Top Gun, Mission Impossible, ...], ...}\n",
    "\n",
    "if is_data_available:\n",
    "    actors_map = unpickling('actors_map.pckl')\n",
    "    actors_movies_map = unpickling('actors_movies_map.pckl')\n",
    "else:\n",
    "    for idx, movie in enumerate(movies_list):\n",
    "        # Get the movies actors\n",
    "        movie_actors = actors_data[idx]\n",
    "\n",
    "        # Loop through the actors and add the movies sale to them\n",
    "        for actor in movie_actors:\n",
    "            #TODO: some movies have ',' in their name and they are not handled yet!\n",
    "            try:\n",
    "                actors_map[actor] += int(movie[3][1:]) # 1: to remove the $ sign\n",
    "            except:\n",
    "                actors_map[actor] += 0\n",
    "            actors_movies_map[actor].append(movie[1])\n",
    "\n",
    "    # Save the calculated actors_map and actors_movies_map to disk\n",
    "    pickling(\"actors_map.pckl\", actors_map)\n",
    "    pickling(\"actors_movies_map.pckl\", actors_movies_map)"
   ]
  },
  {
   "cell_type": "code",
   "execution_count": 20,
   "metadata": {},
   "outputs": [
    {
     "data": {
      "text/html": [
       "<table border=\"1\" class=\"dataframe\">\n",
       "  <thead>\n",
       "    <tr style=\"text-align: right;\">\n",
       "      <th></th>\n",
       "      <th>Actor Name</th>\n",
       "      <th>Profit</th>\n",
       "      <th>Movies</th>\n",
       "    </tr>\n",
       "  </thead>\n",
       "  <tbody>\n",
       "    <tr>\n",
       "      <th>0</th>\n",
       "      <td>Samuel L. Jackson</td>\n",
       "      <td>$16,338,817,882</td>\n",
       "      <td>The Avengers<br>Avengers: Age of Ultron<br>Incredibles 2<br>Spider-Man: Far from Home<br>Captain Marvel</td>\n",
       "    </tr>\n",
       "    <tr>\n",
       "      <th>1</th>\n",
       "      <td>Robert Downey Jr.</td>\n",
       "      <td>$13,952,302,902</td>\n",
       "      <td>Avengers: Endgame<br>Avengers: Infinity War<br>The Avengers<br>Avengers: Age of Ultron<br>Iron Man 3</td>\n",
       "    </tr>\n",
       "    <tr>\n",
       "      <th>2</th>\n",
       "      <td>Benedict Cumberbatch</td>\n",
       "      <td>$13,508,189,548</td>\n",
       "      <td>Avengers: Endgame<br>Avengers: Infinity War<br>Spider-Man: No Way Home<br>The Hobbit: The Battle of the Five Armies<br>The Hobbit: The Desolation of Smaug</td>\n",
       "    </tr>\n",
       "    <tr>\n",
       "      <th>3</th>\n",
       "      <td>Scarlett Johansson</td>\n",
       "      <td>$13,473,169,463</td>\n",
       "      <td>Avengers: Endgame<br>Avengers: Infinity War<br>The Avengers<br>Avengers: Age of Ultron<br>Captain America: Civil War</td>\n",
       "    </tr>\n",
       "    <tr>\n",
       "      <th>4</th>\n",
       "      <td>Alan Tudyk</td>\n",
       "      <td>$12,357,426,928</td>\n",
       "      <td>Frozen II<br>Frozen II<br>Frozen<br>Transformers: Dark of the Moon<br>Rogue One: A Star Wars Story</td>\n",
       "    </tr>\n",
       "    <tr>\n",
       "      <th>5</th>\n",
       "      <td>Idris Elba</td>\n",
       "      <td>$11,767,250,635</td>\n",
       "      <td>Avengers: Infinity War<br>Avengers: Age of Ultron<br>Finding Dory<br>Zootopia<br>The Jungle Book</td>\n",
       "    </tr>\n",
       "    <tr>\n",
       "      <th>6</th>\n",
       "      <td>Chris Hemsworth</td>\n",
       "      <td>$11,741,117,528</td>\n",
       "      <td>Avengers: Endgame<br>Avengers: Infinity War<br>The Avengers<br>Avengers: Age of Ultron<br>Thor: Ragnarok</td>\n",
       "    </tr>\n",
       "    <tr>\n",
       "      <th>7</th>\n",
       "      <td>Zoe Saldaña</td>\n",
       "      <td>$11,434,686,068</td>\n",
       "      <td>Avatar<br>Avengers: Endgame<br>Avengers: Infinity War<br>Guardians of the Galaxy Vol. 2<br>Guardians of the Galaxy</td>\n",
       "    </tr>\n",
       "    <tr>\n",
       "      <th>8</th>\n",
       "      <td>Andy Serkis</td>\n",
       "      <td>$11,305,428,948</td>\n",
       "      <td>Star Wars: Episode VII - The Force Awakens<br>Black Panther<br>Star Wars: Episode VIII - The Last Jedi<br>The Lord of the Rings: The Return of the King<br>The Lord of the Rings: The Two Towers</td>\n",
       "    </tr>\n",
       "    <tr>\n",
       "      <th>9</th>\n",
       "      <td>Chris Evans</td>\n",
       "      <td>$11,179,294,976</td>\n",
       "      <td>Avengers: Endgame<br>Avengers: Infinity War<br>The Avengers<br>Avengers: Age of Ultron<br>Captain America: Civil War</td>\n",
       "    </tr>\n",
       "    <tr>\n",
       "      <th>10</th>\n",
       "      <td>Dwayne Johnson</td>\n",
       "      <td>$10,905,760,359</td>\n",
       "      <td>Furious 7<br>The Fate of the Furious<br>Jumanji: Welcome to the Jungle<br>Jumanji: The Next Level<br>Fast &amp; Furious 6</td>\n",
       "    </tr>\n",
       "    <tr>\n",
       "      <th>11</th>\n",
       "      <td>Tom Holland</td>\n",
       "      <td>$10,778,539,968</td>\n",
       "      <td>Avengers: Endgame<br>Avengers: Infinity War<br>Spider-Man: No Way Home<br>Captain America: Civil War<br>Spider-Man: Far from Home</td>\n",
       "    </tr>\n",
       "    <tr>\n",
       "      <th>12</th>\n",
       "      <td>John Ratzenberger</td>\n",
       "      <td>$10,754,801,967</td>\n",
       "      <td>Incredibles 2<br>Toy Story 4<br>Toy Story 3<br>Finding Dory<br>Inside Out</td>\n",
       "    </tr>\n",
       "    <tr>\n",
       "      <th>13</th>\n",
       "      <td>Ian McKellen</td>\n",
       "      <td>$10,602,714,386</td>\n",
       "      <td>Beauty and the Beast<br>The Lord of the Rings: The Return of the King<br>The Hobbit: An Unexpected Journey<br>The Hobbit: The Battle of the Five Armies<br>The Hobbit: The Desolation of Smaug</td>\n",
       "    </tr>\n",
       "    <tr>\n",
       "      <th>14</th>\n",
       "      <td>Don Cheadle</td>\n",
       "      <td>$10,573,042,480</td>\n",
       "      <td>Avengers: Endgame<br>Avengers: Infinity War<br>Avengers: Age of Ultron<br>Iron Man 3<br>Captain America: Civil War</td>\n",
       "    </tr>\n",
       "    <tr>\n",
       "      <th>15</th>\n",
       "      <td>Paul Bettany</td>\n",
       "      <td>$10,507,989,120</td>\n",
       "      <td>Avengers: Infinity War<br>The Avengers<br>Avengers: Age of Ultron<br>Iron Man 3<br>Captain America: Civil War</td>\n",
       "    </tr>\n",
       "    <tr>\n",
       "      <th>16</th>\n",
       "      <td>Tom Hanks</td>\n",
       "      <td>$9,945,637,013</td>\n",
       "      <td>Toy Story 4<br>Toy Story 3<br>The Da Vinci Code<br>Forrest Gump<br>The Simpsons Movie</td>\n",
       "    </tr>\n",
       "    <tr>\n",
       "      <th>17</th>\n",
       "      <td>Jon Favreau</td>\n",
       "      <td>$9,933,954,062</td>\n",
       "      <td>Spider-Man: No Way Home<br>Iron Man 3<br>Spider-Man: Far from Home<br>The Jungle Book<br>Spider-Man: Homecoming</td>\n",
       "    </tr>\n",
       "    <tr>\n",
       "      <th>18</th>\n",
       "      <td>Alan Rickman</td>\n",
       "      <td>$9,931,024,518</td>\n",
       "      <td>Harry Potter and the Deathly Hallows: Part 2<br>Alice in Wonderland<br>Harry Potter and the Sorcerer's Stone<br>Harry Potter and the Deathly Hallows: Part 1<br>Harry Potter and the Order of the Phoenix</td>\n",
       "    </tr>\n",
       "    <tr>\n",
       "      <th>19</th>\n",
       "      <td>Tom Cruise</td>\n",
       "      <td>$9,879,563,406</td>\n",
       "      <td>Top Gun: Maverick<br>Mission: Impossible - Fallout<br>Mission: Impossible - Ghost Protocol<br>Mission: Impossible - Rogue Nation<br>War of the Worlds</td>\n",
       "    </tr>\n",
       "    <tr>\n",
       "      <th>20</th>\n",
       "      <td>Anthony Mackie</td>\n",
       "      <td>$9,848,709,651</td>\n",
       "      <td>Avengers: Endgame<br>Avengers: Infinity War<br>Avengers: Age of Ultron<br>Captain America: Civil War<br>Captain America: The Winter Soldier</td>\n",
       "    </tr>\n",
       "    <tr>\n",
       "      <th>21</th>\n",
       "      <td>Mark Ruffalo</td>\n",
       "      <td>$9,823,137,233</td>\n",
       "      <td>Avengers: Endgame<br>Avengers: Infinity War<br>The Avengers<br>Avengers: Age of Ultron<br>Thor: Ragnarok</td>\n",
       "    </tr>\n",
       "    <tr>\n",
       "      <th>22</th>\n",
       "      <td>Johnny Depp</td>\n",
       "      <td>$9,807,600,060</td>\n",
       "      <td>Pirates of the Caribbean: Dead Man's Chest<br>Pirates of the Caribbean: On Stranger Tides<br>Alice in Wonderland<br>Pirates of the Caribbean: At World's End<br>Fantastic Beasts and Where to Find Them</td>\n",
       "    </tr>\n",
       "    <tr>\n",
       "      <th>23</th>\n",
       "      <td>Stellan Skarsgård</td>\n",
       "      <td>$9,707,163,552</td>\n",
       "      <td>The Avengers<br>Avengers: Age of Ultron<br>Pirates of the Caribbean: Dead Man's Chest<br>Pirates of the Caribbean: At World's End<br>Thor: Love and Thunder</td>\n",
       "    </tr>\n",
       "    <tr>\n",
       "      <th>24</th>\n",
       "      <td>Emma Watson</td>\n",
       "      <td>$9,642,102,112</td>\n",
       "      <td>Harry Potter and the Deathly Hallows: Part 2<br>Beauty and the Beast<br>Harry Potter and the Sorcerer's Stone<br>Harry Potter and the Deathly Hallows: Part 1<br>Harry Potter and the Order of the Phoenix</td>\n",
       "    </tr>\n",
       "    <tr>\n",
       "      <th>25</th>\n",
       "      <td>Warwick Davis</td>\n",
       "      <td>$9,524,154,642</td>\n",
       "      <td>Harry Potter and the Deathly Hallows: Part 2<br>Star Wars: Episode I - The Phantom Menace<br>Harry Potter and the Sorcerer's Stone<br>Harry Potter and the Deathly Hallows: Part 1<br>Harry Potter and the Order of the Phoenix</td>\n",
       "    </tr>\n",
       "    <tr>\n",
       "      <th>26</th>\n",
       "      <td>Gary Oldman</td>\n",
       "      <td>$9,493,661,517</td>\n",
       "      <td>Harry Potter and the Deathly Hallows: Part 2<br>The Dark Knight Rises<br>The Dark Knight<br>Harry Potter and the Order of the Phoenix<br>Harry Potter and the Goblet of Fire</td>\n",
       "    </tr>\n",
       "    <tr>\n",
       "      <th>27</th>\n",
       "      <td>Cate Blanchett</td>\n",
       "      <td>$9,473,761,455</td>\n",
       "      <td>The Lord of the Rings: The Return of the King<br>The Hobbit: An Unexpected Journey<br>The Hobbit: The Battle of the Five Armies<br>The Lord of the Rings: The Two Towers<br>The Lord of the Rings: The Fellowship of the Ring</td>\n",
       "    </tr>\n",
       "    <tr>\n",
       "      <th>28</th>\n",
       "      <td>Ralph Fiennes</td>\n",
       "      <td>$9,456,582,949</td>\n",
       "      <td>Harry Potter and the Deathly Hallows: Part 2<br>Skyfall<br>Harry Potter and the Deathly Hallows: Part 1<br>Harry Potter and the Order of the Phoenix<br>Harry Potter and the Goblet of Fire</td>\n",
       "    </tr>\n",
       "    <tr>\n",
       "      <th>29</th>\n",
       "      <td>Jeremy Renner</td>\n",
       "      <td>$9,414,674,026</td>\n",
       "      <td>Avengers: Endgame<br>The Avengers<br>Avengers: Age of Ultron<br>Captain America: Civil War<br>Mission: Impossible - Ghost Protocol</td>\n",
       "    </tr>\n",
       "    <tr>\n",
       "      <th>30</th>\n",
       "      <td>Robbie Coltrane</td>\n",
       "      <td>$9,345,891,913</td>\n",
       "      <td>Harry Potter and the Deathly Hallows: Part 2<br>Harry Potter and the Sorcerer's Stone<br>Harry Potter and the Deathly Hallows: Part 1<br>Harry Potter and the Order of the Phoenix<br>Harry Potter and the Half-Blood Prince</td>\n",
       "    </tr>\n",
       "    <tr>\n",
       "      <th>31</th>\n",
       "      <td>Anthony Daniels</td>\n",
       "      <td>$9,282,768,419</td>\n",
       "      <td>Star Wars: Episode VII - The Force Awakens<br>Star Wars: Episode VIII - The Last Jedi<br>Star Wars: Episode IX - The Rise of Skywalker<br>Star Wars: Episode I - The Phantom Menace<br>Star Wars: Episode III - Revenge of the Sith</td>\n",
       "    </tr>\n",
       "    <tr>\n",
       "      <th>32</th>\n",
       "      <td>Vin Diesel</td>\n",
       "      <td>$9,162,164,637</td>\n",
       "      <td>Furious 7<br>The Fate of the Furious<br>Guardians of the Galaxy Vol. 2<br>Fast &amp; Furious 6<br>Guardians of the Galaxy</td>\n",
       "    </tr>\n",
       "    <tr>\n",
       "      <th>33</th>\n",
       "      <td>Helena Bonham Carter</td>\n",
       "      <td>$9,139,931,630</td>\n",
       "      <td>Harry Potter and the Deathly Hallows: Part 2<br>Alice in Wonderland<br>Harry Potter and the Deathly Hallows: Part 1<br>Harry Potter and the Order of the Phoenix<br>Harry Potter and the Half-Blood Prince</td>\n",
       "    </tr>\n",
       "    <tr>\n",
       "      <th>34</th>\n",
       "      <td>Orlando Bloom</td>\n",
       "      <td>$9,105,510,702</td>\n",
       "      <td>The Lord of the Rings: The Return of the King<br>Pirates of the Caribbean: Dead Man's Chest<br>The Hobbit: The Battle of the Five Armies<br>Pirates of the Caribbean: At World's End<br>The Hobbit: The Desolation of Smaug</td>\n",
       "    </tr>\n",
       "    <tr>\n",
       "      <th>35</th>\n",
       "      <td>Karen Gillan</td>\n",
       "      <td>$9,005,796,201</td>\n",
       "      <td>Avengers: Endgame<br>Avengers: Infinity War<br>Jumanji: Welcome to the Jungle<br>Guardians of the Galaxy Vol. 2<br>Jumanji: The Next Level</td>\n",
       "    </tr>\n",
       "    <tr>\n",
       "      <th>36</th>\n",
       "      <td>Christopher Lee</td>\n",
       "      <td>$9,003,870,520</td>\n",
       "      <td>The Lord of the Rings: The Return of the King<br>Alice in Wonderland<br>The Hobbit: An Unexpected Journey<br>The Hobbit: The Battle of the Five Armies<br>The Lord of the Rings: The Two Towers</td>\n",
       "    </tr>\n",
       "    <tr>\n",
       "      <th>37</th>\n",
       "      <td>Elizabeth Olsen</td>\n",
       "      <td>$8,882,759,991</td>\n",
       "      <td>Avengers: Endgame<br>Avengers: Infinity War<br>Avengers: Age of Ultron<br>Captain America: Civil War<br>Doctor Strange in the Multiverse of Madness</td>\n",
       "    </tr>\n",
       "    <tr>\n",
       "      <th>38</th>\n",
       "      <td>Willem Dafoe</td>\n",
       "      <td>$8,872,713,136</td>\n",
       "      <td>Spider-Man: No Way Home<br>Aquaman<br>Finding Nemo<br>Spider-Man 3<br>Spider-Man</td>\n",
       "    </tr>\n",
       "    <tr>\n",
       "      <th>39</th>\n",
       "      <td>Michelle Rodriguez</td>\n",
       "      <td>$8,855,437,022</td>\n",
       "      <td>Avatar<br>Furious 7<br>The Fate of the Furious<br>Fast &amp; Furious 6<br>F9: The Fast Saga</td>\n",
       "    </tr>\n",
       "    <tr>\n",
       "      <th>40</th>\n",
       "      <td>J.K. Simmons</td>\n",
       "      <td>$8,528,583,815</td>\n",
       "      <td>Spider-Man: No Way Home<br>Zootopia<br>Spider-Man 3<br>Spider-Man<br>Spider-Man 2</td>\n",
       "    </tr>\n",
       "    <tr>\n",
       "      <th>41</th>\n",
       "      <td>Simon Pegg</td>\n",
       "      <td>$8,501,646,928</td>\n",
       "      <td>Star Wars: Episode VII - The Force Awakens<br>Ice Age: Dawn of the Dinosaurs<br>Mission: Impossible - Fallout<br>Mission: Impossible - Ghost Protocol<br>Mission: Impossible - Rogue Nation</td>\n",
       "    </tr>\n",
       "    <tr>\n",
       "      <th>42</th>\n",
       "      <td>Harrison Ford</td>\n",
       "      <td>$8,341,015,887</td>\n",
       "      <td>Star Wars: Episode VII - The Force Awakens<br>Indiana Jones and the Kingdom of the Crystal Skull<br>Star Wars: Episode IV - A New Hope<br>Star Wars: Episode V - The Empire Strikes Back<br>Star Wars: Episode VI - Return of the Jedi</td>\n",
       "    </tr>\n",
       "    <tr>\n",
       "      <th>43</th>\n",
       "      <td>Daniel Radcliffe</td>\n",
       "      <td>$8,318,466,269</td>\n",
       "      <td>Harry Potter and the Deathly Hallows: Part 2<br>Harry Potter and the Sorcerer's Stone<br>Harry Potter and the Deathly Hallows: Part 1<br>Harry Potter and the Order of the Phoenix<br>Harry Potter and the Half-Blood Prince</td>\n",
       "    </tr>\n",
       "    <tr>\n",
       "      <th>44</th>\n",
       "      <td>Tom Felton</td>\n",
       "      <td>$8,274,525,507</td>\n",
       "      <td>Harry Potter and the Deathly Hallows: Part 2<br>Harry Potter and the Sorcerer's Stone<br>Harry Potter and the Deathly Hallows: Part 1<br>Harry Potter and the Order of the Phoenix<br>Harry Potter and the Half-Blood Prince</td>\n",
       "    </tr>\n",
       "    <tr>\n",
       "      <th>45</th>\n",
       "      <td>Stanley Tucci</td>\n",
       "      <td>$8,179,639,845</td>\n",
       "      <td>Beauty and the Beast<br>Transformers: Age of Extinction<br>The Hunger Games: Catching Fire<br>The Hunger Games: Mockingjay - Part 1<br>The Hunger Games</td>\n",
       "    </tr>\n",
       "    <tr>\n",
       "      <th>46</th>\n",
       "      <td>Frank Welker</td>\n",
       "      <td>$8,135,106,242</td>\n",
       "      <td>Frozen<br>The Lion King<br>Madagascar 3: Europe's Most Wanted<br>Transformers: The Last Knight<br>The Smurfs</td>\n",
       "    </tr>\n",
       "    <tr>\n",
       "      <th>47</th>\n",
       "      <td>Sebastian Stan</td>\n",
       "      <td>$8,044,208,719</td>\n",
       "      <td>Avengers: Endgame<br>Avengers: Infinity War<br>Captain America: Civil War<br>Captain America: The Winter Soldier<br>The Martian</td>\n",
       "    </tr>\n",
       "    <tr>\n",
       "      <th>48</th>\n",
       "      <td>Will Smith</td>\n",
       "      <td>$7,958,064,787</td>\n",
       "      <td>Aladdin<br>Independence Day<br>Suicide Squad<br>Hancock<br>Men in Black 3</td>\n",
       "    </tr>\n",
       "    <tr>\n",
       "      <th>49</th>\n",
       "      <td>Maggie Smith</td>\n",
       "      <td>$7,915,770,228</td>\n",
       "      <td>Harry Potter and the Deathly Hallows: Part 2<br>Harry Potter and the Sorcerer's Stone<br>Harry Potter and the Order of the Phoenix<br>Harry Potter and the Half-Blood Prince<br>Harry Potter and the Goblet of Fire</td>\n",
       "    </tr>\n",
       "    <tr>\n",
       "      <th>50</th>\n",
       "      <td>Tyrese Gibson</td>\n",
       "      <td>$7,798,552,874</td>\n",
       "      <td>Furious 7<br>The Fate of the Furious<br>Transformers: Dark of the Moon<br>Transformers: Revenge of the Fallen<br>Fast &amp; Furious 6</td>\n",
       "    </tr>\n",
       "  </tbody>\n",
       "</table>"
      ],
      "text/plain": [
       "<IPython.core.display.HTML object>"
      ]
     },
     "metadata": {},
     "output_type": "display_data"
    }
   ],
   "source": [
    "html = print_actors_map_pd(actors_map, actors_movies_map, limit=50, movies_limit=5)"
   ]
  }
 ],
 "metadata": {
  "kernelspec": {
   "display_name": "Python 3.10.1 64-bit",
   "language": "python",
   "name": "python3"
  },
  "language_info": {
   "codemirror_mode": {
    "name": "ipython",
    "version": 3
   },
   "file_extension": ".py",
   "mimetype": "text/x-python",
   "name": "python",
   "nbconvert_exporter": "python",
   "pygments_lexer": "ipython3",
   "version": "3.10.1"
  },
  "orig_nbformat": 4,
  "vscode": {
   "interpreter": {
    "hash": "3858431499dcaaf4de29b8b352749eebe871787bd67cf3dfc1982c43a6256c9d"
   }
  }
 },
 "nbformat": 4,
 "nbformat_minor": 2
}

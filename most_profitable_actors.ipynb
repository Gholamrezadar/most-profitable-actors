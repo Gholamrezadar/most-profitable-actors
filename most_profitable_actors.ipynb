{
 "cells": [
  {
   "cell_type": "code",
   "execution_count": null,
   "metadata": {},
   "outputs": [],
   "source": [
    "import requests\n",
    "from bs4 import (\n",
    "    BeautifulSoup,\n",
    ")\n",
    "\n",
    "\n",
    "pages_list: list[str] = [\n",
    "    \"https://www.boxofficemojo.com/chart/top_lifetime_gross/?area=XWW\",\n",
    "    # \"https://www.boxofficemojo.com/chart/top_lifetime_gross/?area=XWW&offset=200\",\n",
    "    # \"https://www.boxofficemojo.com/chart/top_lifetime_gross/?area=XWW&offset=400\",\n",
    "    # \"https://www.boxofficemojo.com/chart/top_lifetime_gross/?area=XWW&offset=600\",\n",
    "    # \"https://www.boxofficemojo.com/chart/top_lifetime_gross/?area=XWW&offset=800\",\n",
    "    # \"https://www.boxofficemojo.com/chart/top_lifetime_gross/?area=XWW&offset=1000\",\n",
    "    # \"https://www.boxofficemojo.com/chart/top_lifetime_gross/?area=XWW&offset=1200\",\n",
    "    # \"https://www.boxofficemojo.com/chart/top_lifetime_gross/?area=XWW&offset=1400\",\n",
    "    # \"https://www.boxofficemojo.com/chart/top_lifetime_gross/?area=XWW&offset=1600\",\n",
    "    # \"https://www.boxofficemojo.com/chart/top_lifetime_gross/?area=XWW&offset=1800\",\n",
    "]\n",
    "\n",
    "for page_url in pages_list:\n",
    "    page = requests.get(page_url)\n",
    "\n",
    "    if page.status_code == 200:\n",
    "        print(f\"> {page_url} Downloaded.\")\n",
    "\n",
    "        soup = BeautifulSoup(\n",
    "            page.content,\n",
    "            \"html.parser\",\n",
    "        )\n",
    "        movies_rank_list = soup.select(\"td.a-text-right.mojo-header-column.mojo-truncate.mojo-field-type-rank\")\n",
    "        movies_name_list = soup.select(\"td.a-text-left.mojo-field-type-title\")\n",
    "        movies_year_list = soup.select(\"td.a-text-left.mojo-field-type-year\")\n",
    "        movies_money_list = soup.select(\"td.a-text-right.mojo-field-type-money\")\n",
    "\n",
    "        with open(\"movies_list.csv\", \"a\") as file:\n",
    "            for (rank, name, year, money,) in zip(\n",
    "                movies_rank_list,\n",
    "                movies_name_list,\n",
    "                movies_year_list,\n",
    "                movies_money_list,\n",
    "            ):\n",
    "                file.write(f'1, \"{rank.text}\", \"{name.text}\", \"{year.text}\", \"{money.text}\"\\n')\n",
    "\n",
    "        print(f\"> Wrote {len(movies_rank_list)} Movies.\\n\")\n",
    "\n",
    "    else:\n",
    "        raise Exception(\"Problem loading the page!\")"
   ]
  }
 ],
 "metadata": {
  "language_info": {
   "name": "python"
  },
  "orig_nbformat": 4
 },
 "nbformat": 4,
 "nbformat_minor": 2
}
